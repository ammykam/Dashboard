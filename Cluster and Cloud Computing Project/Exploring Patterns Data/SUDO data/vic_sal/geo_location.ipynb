{
 "cells": [
  {
   "cell_type": "code",
   "execution_count": 16,
   "metadata": {},
   "outputs": [
    {
     "name": "stdout",
     "output_type": "stream",
     "text": [
      "2952\n"
     ]
    }
   ],
   "source": [
    "import json\n",
    "\n",
    "f = open('geo_vic_sal.json')\n",
    "\n",
    "geo_vic = json.load(f)\n",
    "\n",
    "count = 0\n",
    "\n",
    "geo_vic_filter = {}\n",
    "for data in geo_vic:\n",
    "    count += 1\n",
    "    name = data['scc_name'][0].lower()\n",
    "    geo_vic_filter[name] = {}\n",
    "    geo_vic_filter[name]['lat'] = data['geo_point_2d']['lat']\n",
    "    geo_vic_filter[name]['lon'] = data['geo_point_2d']['lon']\n",
    "    geo_vic_filter[name]['code'] = int(data['scc_code'][0])\n",
    "\n",
    "geo_vic_filter\n",
    "\n",
    "with open('geo_vic_filter.json', 'w') as fp:\n",
    "    json.dump(geo_vic_filter, fp)\n"
   ]
  },
  {
   "cell_type": "code",
   "execution_count": 27,
   "metadata": {},
   "outputs": [],
   "source": [
    "import json\n",
    "\n",
    "f = open('geo_vic_sal.json')\n",
    "\n",
    "geo_vic_ssa = json.load(f)\n",
    "\n",
    "\n",
    "geo_vic_filter_ssa = {\"type\": \"FeatureCollection\", \"features\": []}\n",
    "for data in geo_vic_ssa:\n",
    "    singleData = {\"type\": \"Feature\", \"geometry\": {}, \"properties\": {}}\n",
    "    name = data['scc_name'][0].lower()\n",
    "\n",
    "    \n",
    "    singleData['geometry'] = data['geo_shape']['geometry']\n",
    "    singleData['properties']['name'] = name\n",
    "    singleData['properties']['code'] = data['scc_code'][0]\n",
    "    singleData['properties']['lga_code'] = data['lga_code'][0]\n",
    "    geo_vic_filter_ssa['features'].append(singleData)\n",
    "\n",
    "# with open('geo_vic_filter_ssa.geojson', 'w') as fp:\n",
    "#     json.dump(geo_vic_filter_ssa, fp)\n"
   ]
  },
  {
   "cell_type": "code",
   "execution_count": 32,
   "metadata": {},
   "outputs": [],
   "source": [
    "import json\n",
    "\n",
    "f = open('geo_vic_lga.json')\n",
    "\n",
    "geo_vic_lga = json.load(f)\n",
    "\n",
    "\n",
    "geo_vic_filter_lga = {\"type\": \"FeatureCollection\", \"features\": []}\n",
    "for data in geo_vic_lga:\n",
    "    singleData = {\"type\": \"Feature\", \"geometry\": {}, \"properties\": {}}\n",
    "    name = data['lga_name'][0].lower()\n",
    "\n",
    "    \n",
    "    singleData['geometry'] = data['geo_shape']['geometry']\n",
    "    singleData['properties']['name'] = name\n",
    "    singleData['properties']['code'] = data['lga_code'][0]\n",
    "    singleData['properties']['ssa_name'] = [item['properties']['name'] for item in geo_vic_filter_ssa['features'] if singleData['properties']['code'] in item['properties']['lga_code']]\n",
    "    singleData['properties']['ssa_code'] = [item['properties']['code'] for item in geo_vic_filter_ssa['features'] if singleData['properties']['code'] in item['properties']['lga_code']]\n",
    "    geo_vic_filter_lga['features'].append(singleData)\n",
    "# geo_vic_filter_lga\n",
    "with open('geo_vic_filter_lga.geojson', 'w') as fp:\n",
    "    json.dump(geo_vic_filter_lga, fp)\n"
   ]
  }
 ],
 "metadata": {
  "kernelspec": {
   "display_name": "base",
   "language": "python",
   "name": "python3"
  },
  "language_info": {
   "codemirror_mode": {
    "name": "ipython",
    "version": 3
   },
   "file_extension": ".py",
   "mimetype": "text/x-python",
   "name": "python",
   "nbconvert_exporter": "python",
   "pygments_lexer": "ipython3",
   "version": "3.9.12"
  },
  "orig_nbformat": 4
 },
 "nbformat": 4,
 "nbformat_minor": 2
}
